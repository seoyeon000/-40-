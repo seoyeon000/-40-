{
 "cells": [
  {
   "cell_type": "code",
   "execution_count": 1,
   "metadata": {},
   "outputs": [
    {
     "name": "stdout",
     "output_type": "stream",
     "text": [
      "Requirement already satisfied: selenium in c:\\users\\user\\anaconda3\\lib\\site-packages (4.6.0)\n",
      "Requirement already satisfied: urllib3[socks]~=1.26 in c:\\users\\user\\anaconda3\\lib\\site-packages (from selenium) (1.26.11)\n",
      "Requirement already satisfied: trio-websocket~=0.9 in c:\\users\\user\\anaconda3\\lib\\site-packages (from selenium) (0.9.2)\n",
      "Requirement already satisfied: certifi>=2021.10.8 in c:\\users\\user\\anaconda3\\lib\\site-packages (from selenium) (2022.9.14)\n",
      "Requirement already satisfied: trio~=0.17 in c:\\users\\user\\anaconda3\\lib\\site-packages (from selenium) (0.22.0)\n",
      "Requirement already satisfied: async-generator>=1.9 in c:\\users\\user\\anaconda3\\lib\\site-packages (from trio~=0.17->selenium) (1.10)\n",
      "Requirement already satisfied: attrs>=19.2.0 in c:\\users\\user\\anaconda3\\lib\\site-packages (from trio~=0.17->selenium) (21.4.0)\n",
      "Requirement already satisfied: exceptiongroup>=1.0.0rc9 in c:\\users\\user\\anaconda3\\lib\\site-packages (from trio~=0.17->selenium) (1.0.4)\n",
      "Requirement already satisfied: outcome in c:\\users\\user\\anaconda3\\lib\\site-packages (from trio~=0.17->selenium) (1.2.0)\n",
      "Requirement already satisfied: sortedcontainers in c:\\users\\user\\anaconda3\\lib\\site-packages (from trio~=0.17->selenium) (2.4.0)\n",
      "Requirement already satisfied: cffi>=1.14 in c:\\users\\user\\anaconda3\\lib\\site-packages (from trio~=0.17->selenium) (1.15.1)\n",
      "Requirement already satisfied: idna in c:\\users\\user\\anaconda3\\lib\\site-packages (from trio~=0.17->selenium) (3.3)\n",
      "Requirement already satisfied: sniffio in c:\\users\\user\\anaconda3\\lib\\site-packages (from trio~=0.17->selenium) (1.2.0)\n",
      "Requirement already satisfied: wsproto>=0.14 in c:\\users\\user\\anaconda3\\lib\\site-packages (from trio-websocket~=0.9->selenium) (1.2.0)\n",
      "Requirement already satisfied: PySocks!=1.5.7,<2.0,>=1.5.6 in c:\\users\\user\\anaconda3\\lib\\site-packages (from urllib3[socks]~=1.26->selenium) (1.7.1)\n",
      "Requirement already satisfied: pycparser in c:\\users\\user\\anaconda3\\lib\\site-packages (from cffi>=1.14->trio~=0.17->selenium) (2.21)\n",
      "Requirement already satisfied: h11<1,>=0.9.0 in c:\\users\\user\\anaconda3\\lib\\site-packages (from wsproto>=0.14->trio-websocket~=0.9->selenium) (0.14.0)\n",
      "Note: you may need to restart the kernel to use updated packages.\n"
     ]
    }
   ],
   "source": [
    "pip install selenium"
   ]
  },
  {
   "cell_type": "code",
   "execution_count": 2,
   "metadata": {},
   "outputs": [
    {
     "name": "stdout",
     "output_type": "stream",
     "text": [
      "Requirement already satisfied: webdriver-manager in c:\\users\\user\\anaconda3\\lib\\site-packages (3.8.5)\n",
      "Requirement already satisfied: packaging in c:\\users\\user\\anaconda3\\lib\\site-packages (from webdriver-manager) (21.3)\n",
      "Requirement already satisfied: tqdm in c:\\users\\user\\anaconda3\\lib\\site-packages (from webdriver-manager) (4.64.1)\n",
      "Requirement already satisfied: python-dotenv in c:\\users\\user\\anaconda3\\lib\\site-packages (from webdriver-manager) (0.21.0)\n",
      "Requirement already satisfied: requests in c:\\users\\user\\anaconda3\\lib\\site-packages (from webdriver-manager) (2.28.1)\n",
      "Requirement already satisfied: pyparsing!=3.0.5,>=2.0.2 in c:\\users\\user\\anaconda3\\lib\\site-packages (from packaging->webdriver-manager) (3.0.9)\n",
      "Requirement already satisfied: urllib3<1.27,>=1.21.1 in c:\\users\\user\\anaconda3\\lib\\site-packages (from requests->webdriver-manager) (1.26.11)\n",
      "Requirement already satisfied: charset-normalizer<3,>=2 in c:\\users\\user\\anaconda3\\lib\\site-packages (from requests->webdriver-manager) (2.0.4)\n",
      "Requirement already satisfied: idna<4,>=2.5 in c:\\users\\user\\anaconda3\\lib\\site-packages (from requests->webdriver-manager) (3.3)\n",
      "Requirement already satisfied: certifi>=2017.4.17 in c:\\users\\user\\anaconda3\\lib\\site-packages (from requests->webdriver-manager) (2022.9.14)\n",
      "Requirement already satisfied: colorama in c:\\users\\user\\anaconda3\\lib\\site-packages (from tqdm->webdriver-manager) (0.4.5)\n",
      "Note: you may need to restart the kernel to use updated packages.\n"
     ]
    }
   ],
   "source": [
    "pip install webdriver-manager"
   ]
  },
  {
   "cell_type": "code",
   "execution_count": 3,
   "metadata": {},
   "outputs": [
    {
     "name": "stdout",
     "output_type": "stream",
     "text": [
      "Collecting python-telegram-botNote: you may need to restart the kernel to use updated packages.\n",
      "\n",
      "  Downloading python_telegram_bot-13.14-py3-none-any.whl (514 kB)\n",
      "     ------------------------------------- 514.6/514.6 kB 10.7 MB/s eta 0:00:00\n",
      "Requirement already satisfied: pytz>=2018.6 in c:\\users\\user\\anaconda3\\lib\\site-packages (from python-telegram-bot) (2022.1)\n",
      "Requirement already satisfied: tornado==6.1 in c:\\users\\user\\anaconda3\\lib\\site-packages (from python-telegram-bot) (6.1)\n",
      "Requirement already satisfied: certifi in c:\\users\\user\\anaconda3\\lib\\site-packages (from python-telegram-bot) (2022.9.14)\n",
      "Collecting APScheduler==3.6.3\n",
      "  Downloading APScheduler-3.6.3-py2.py3-none-any.whl (58 kB)\n",
      "     ---------------------------------------- 58.9/58.9 kB ? eta 0:00:00\n",
      "Collecting cachetools==4.2.2\n",
      "  Downloading cachetools-4.2.2-py3-none-any.whl (11 kB)\n",
      "Requirement already satisfied: setuptools>=0.7 in c:\\users\\user\\anaconda3\\lib\\site-packages (from APScheduler==3.6.3->python-telegram-bot) (63.4.1)\n",
      "Requirement already satisfied: six>=1.4.0 in c:\\users\\user\\anaconda3\\lib\\site-packages (from APScheduler==3.6.3->python-telegram-bot) (1.16.0)\n",
      "Collecting tzlocal>=1.2\n",
      "  Downloading tzlocal-4.2-py3-none-any.whl (19 kB)\n",
      "Collecting pytz-deprecation-shim\n",
      "  Downloading pytz_deprecation_shim-0.1.0.post0-py2.py3-none-any.whl (15 kB)\n",
      "Collecting tzdata\n",
      "  Using cached tzdata-2022.6-py2.py3-none-any.whl (338 kB)\n",
      "Installing collected packages: tzdata, cachetools, pytz-deprecation-shim, tzlocal, APScheduler, python-telegram-bot\n",
      "Successfully installed APScheduler-3.6.3 cachetools-4.2.2 python-telegram-bot-13.14 pytz-deprecation-shim-0.1.0.post0 tzdata-2022.6 tzlocal-4.2\n"
     ]
    }
   ],
   "source": [
    "pip install python-telegram-bot"
   ]
  },
  {
   "cell_type": "code",
   "execution_count": 5,
   "metadata": {},
   "outputs": [
    {
     "name": "stderr",
     "output_type": "stream",
     "text": [
      "C:\\Users\\user\\AppData\\Local\\Temp\\ipykernel_9760\\2941916457.py:4: DeprecationWarning: executable_path has been deprecated, please pass in a Service object\n",
      "  driver = webdriver.Chrome(ChromeDriverManager().install())\n"
     ]
    }
   ],
   "source": [
    "from webdriver_manager.chrome import ChromeDriverManager\n",
    "from selenium import webdriver\n",
    "\n",
    "driver = webdriver.Chrome(ChromeDriverManager().install())\n",
    "\n",
    "driver.get(url='https://www.ppomppu.co.kr/zboard/zboard.php?id=ppomppu')\n",
    "\n",
    "driver.implicitly_wait(time_to_wait=10)"
   ]
  },
  {
   "cell_type": "code",
   "execution_count": 6,
   "metadata": {},
   "outputs": [
    {
     "name": "stdout",
     "output_type": "stream",
     "text": [
      "[컴퓨존] 콜맨코리아 인디고 루미에르 랜턴(89,000/무료)\n",
      "https://www.ppomppu.co.kr/zboard/view.php?id=ppomppu&page=1&divpage=75&no=442550\n",
      "[11마존] Razer 헌츠맨 엘리트(138,260/우주패스무료) 모든 쿠폰적용시 117,440\n",
      "https://www.ppomppu.co.kr/zboard/view.php?id=ppomppu&page=1&divpage=75&no=442549\n",
      "[옥션] 22년햅쌀 평안미 농협쌀10kg (22,420/무료)\n",
      "https://www.ppomppu.co.kr/zboard/view.php?id=ppomppu&page=1&divpage=75&no=442548\n",
      "[11마존] 레이저 바실리스크 얼티메이트 무선 마우스 충전독 포함 (99,700원/무료배송)\n",
      "https://www.ppomppu.co.kr/zboard/view.php?id=ppomppu&page=1&divpage=75&no=442547\n",
      "[롯데온] 쏜리서치 베이직B 컴플렉스 3병 (55,520원/무료)\n",
      "https://www.ppomppu.co.kr/zboard/view.php?id=ppomppu&page=1&divpage=75&no=442546\n",
      "[11마존] Kingston NV2 2TB M.2 2280 NVMe PCIe 4.0 최대 3500MB/s (145,370원/무료)\n",
      "https://www.ppomppu.co.kr/zboard/view.php?id=ppomppu&page=1&divpage=75&no=442545\n",
      "[옥션] 태송김치 볶음밥 300g x 10봉 (19,000원/무료)\n",
      "https://www.ppomppu.co.kr/zboard/view.php?id=ppomppu&page=1&divpage=75&no=442544\n",
      "[VOGO] 아이나비 블루벤트 가습기 SH-U100BS (49,000/무료)\n",
      "https://www.ppomppu.co.kr/zboard/view.php?id=ppomppu&page=1&divpage=75&no=442543\n",
      "[옥션]앤업카페 맥스 마일드라떼 무라벨 450ml 1+1박스(총40입) (16,600 무배)\n",
      "https://www.ppomppu.co.kr/zboard/view.php?id=ppomppu&page=1&divpage=75&no=442542\n",
      "롯데온) 세타필 473ml 2개+미니어처랜덤 증정(24,900/무배)\n",
      "https://www.ppomppu.co.kr/zboard/view.php?id=ppomppu&page=1&divpage=75&no=442541\n",
      "[AK몰] 나이키 에어맥스 97 DH8016-100 (117,910원/무료)\n",
      "https://www.ppomppu.co.kr/zboard/view.php?id=ppomppu&page=1&divpage=75&no=442540\n",
      "[컴퓨존] 블루투스무선키보드 키크론 텐키리스 (69,720원/3,000원)\n",
      "https://www.ppomppu.co.kr/zboard/view.php?id=ppomppu&page=1&divpage=75&no=442539\n",
      "[VOGO]에너자이저 AA+AAA 48알.종류 다양(12,900/무배)\n",
      "https://www.ppomppu.co.kr/zboard/view.php?id=ppomppu&page=1&divpage=75&no=442538\n",
      "[FCMM](끌올) 와이드 팬츠, 후드, 맨투맨 등 최소 80% 특가 (3,300원~/2,500원)\n",
      "https://www.ppomppu.co.kr/zboard/view.php?id=ppomppu&page=1&divpage=75&no=442537\n",
      "[티몬] LED 지네전구 크리스마스 트리전구 & 오너먼트 커튼전구 조명 (8,370/무료)\n",
      "https://www.ppomppu.co.kr/zboard/view.php?id=ppomppu&page=1&divpage=75&no=442536\n",
      "[G마켓] 갤럭시워치 5 4 3 액티브2 1 애플워치 충전 독 거치대 (4,690 / 무료배송)\n",
      "https://www.ppomppu.co.kr/zboard/view.php?id=ppomppu&page=1&divpage=75&no=442535\n",
      "[인터파크] 국내산 피데기 반건조 오징어 10미 사이즈다양 농협/하나카드 10% 할인 (13,200원~/무료배송)\n",
      "https://www.ppomppu.co.kr/zboard/view.php?id=ppomppu&page=1&divpage=75&no=442533\n",
      "[VOGO] 레노버 아이디어패드 Slim5 (439,000원/무료배송)\n",
      "https://www.ppomppu.co.kr/zboard/view.php?id=ppomppu&page=1&divpage=75&no=442532\n",
      "스팜) 최저가양 양꼬치 300g 9900원\n",
      "https://www.ppomppu.co.kr/zboard/view.php?id=ppomppu&page=1&divpage=75&no=442531\n",
      "[티몬] 북앤라이프 도서문화 온라인상품권 (46,100원/무료)\n",
      "https://www.ppomppu.co.kr/zboard/view.php?id=ppomppu&page=1&divpage=75&no=442530\n",
      "[지그재그]Z폴더블4/S22 전고객 최대 24%할인[선착순 100명 신세계3만원 +투명케이스][+A시리즈]\n",
      "https://www.ppomppu.co.kr/zboard/view.php?id=pmarket&&no=281221\n",
      "[네이버] 무농약 인증! 해남 꿀고구마 한입 3kg 7,900원/무료배송\n",
      "https://www.ppomppu.co.kr/zboard/view.php?id=pmarket&&no=281222\n",
      "[11번가] 갤럭시 자급제폰 브랜드위크 최대 22% 할인SALE (Z플립4/Z폴드4/S22시리즈/A시리즈)\n",
      "https://www.ppomppu.co.kr/zboard/view.php?id=pmarket&&no=281218\n",
      "[네이버] 태영한우 1++ 투쁠 한우 모듬 600g 59,800원 , 1++업진살 100g당 9633원 대한민국 최저가 도전 초특가 50% 한정수량 72개 진행중! (14시 이전 주문 ...\n",
      "https://www.ppomppu.co.kr/zboard/view.php?id=pmarket&&no=281226\n",
      "[후기보장] 최대45%+12%할인/에뛰드 리뷰보장 득템 찬스 (8,000원)\n",
      "https://www.ppomppu.co.kr/hotdeal/?no=24631551\n",
      "[티몬] 피자마루 사이드메뉴 100원(고추마요텐더, 딥치즈나초)\n",
      "https://www.ppomppu.co.kr/zboard/view.php?id=social&no=35404\n",
      "독감예방 kf94 마스크 세일 / 대두의.대두에 의한.대두를 위한 (너무 싸구려아니라서 품질 좋음)[100매/23,400원/무료배송]\n",
      "https://www.ppomppu.co.kr/zboard/view.php?id=social&no=35401\n",
      "오늘의 집 친추 5천쿠폰 쓸 제품 있을까요?\n",
      "https://www.ppomppu.co.kr/zboard/view.php?id=social&no=35400\n"
     ]
    }
   ],
   "source": [
    "from selenium.webdriver.common.by import By\n",
    "\n",
    "\n",
    "titles = driver.find_elements(By.CSS_SELECTOR, '#revolution_main_table > tbody > tr > td:nth-child(3) > table > tbody > tr > td:nth-child(2) > div > a > font')\n",
    "\n",
    "urls = driver.find_elements(By.CSS_SELECTOR, '#revolution_main_table > tbody > tr > td:nth-child(3) > table > tbody > tr > td:nth-child(2) > div > a')\n",
    "\n",
    "for i in range(len(titles)):\n",
    "    print(titles[i].text)\n",
    "    print(urls[i].get_attribute('href'))"
   ]
  },
  {
   "cell_type": "code",
   "execution_count": 12,
   "metadata": {},
   "outputs": [
    {
     "name": "stdout",
     "output_type": "stream",
     "text": [
      "[컴퓨존] 블루투스무선키보드 키크론 텐키리스 (69,720원/3,000원)\n",
      "https://www.ppomppu.co.kr/zboard/view.php?id=ppomppu&page=1&divpage=75&no=442539\n"
     ]
    }
   ],
   "source": [
    "import telegram\n",
    "\n",
    "message=\"\"\n",
    "for i in range(len(titles)):\n",
    "    if \"키보드\" in titles[i].text:\n",
    "        message = titles[i].text + '\\n' + urls[i].get_attribute('href')\n",
    "        print(message)\n",
    "        token = \"5909930048:AAGf50bV8nIJqkIFRpJ7mUrJoYDX6Gs8u_0\"\n",
    "        id = \"5786770110\"\n",
    "        \n",
    "        bot = telegram.Bot(token)\n",
    "        bot.sendMessage(chat_id=id, text=message)"
   ]
  }
 ],
 "metadata": {
  "kernelspec": {
   "display_name": "Python 3.9.13 ('base')",
   "language": "python",
   "name": "python3"
  },
  "language_info": {
   "codemirror_mode": {
    "name": "ipython",
    "version": 3
   },
   "file_extension": ".py",
   "mimetype": "text/x-python",
   "name": "python",
   "nbconvert_exporter": "python",
   "pygments_lexer": "ipython3",
   "version": "3.9.13"
  },
  "orig_nbformat": 4,
  "vscode": {
   "interpreter": {
    "hash": "a077222d77dfe082b8f1dd562ad70e458ac2ab76993a0b248ab0476e32e9e8dd"
   }
  }
 },
 "nbformat": 4,
 "nbformat_minor": 2
}
